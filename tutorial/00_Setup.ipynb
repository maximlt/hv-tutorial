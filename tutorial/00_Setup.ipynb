{
 "cells": [
  {
   "cell_type": "markdown",
   "metadata": {},
   "source": [
    "<style>div.container { width: 100% }</style>\n",
    "<img style=\"float:right;  vertical-align:text-bottom;\" height=\"65\" width=\"172\" src=\"./_static/holoviz-logo-unstacked.svg\" />"
   ]
  },
  {
   "cell_type": "markdown",
   "metadata": {},
   "source": [
    "# Setup"
   ]
  },
  {
   "cell_type": "markdown",
   "metadata": {},
   "source": [
    "This first step to the tutorial will ensure your system is set up to handle all the subsequent sections, with all software installed and all data downloaded as needed. The [index](index.ipynb) provides some links you might want to examine before you start."
   ]
  },
  {
   "cell_type": "markdown",
   "metadata": {},
   "source": [
    "```{important} \n",
    "The instructions below are specific to this tutorial, and are designed to ensure that you install exactly the same versions for which the tutorial was written so that the output shown will exactly match what you see yourself. If you are looking to install a HoloViz package for your own use, please consult each library's website (linked from [HoloViz](https://holoviz.org/)) for detailed guidance. Typically, installing these packages simply involves `conda install` or `pip install`, e.g. `conda install hvplot datashader`.\n",
    "```"
   ]
  },
  {
   "cell_type": "markdown",
   "metadata": {},
   "source": [
    "```{hint}\n",
    "If you are attending a live tutorial or workshop and have previously run through the tutorial, make sure to run these steps again shortly before the live session to ensure you have the same version of the tutorial that the presenter will use.\n",
    "```"
   ]
  },
  {
   "cell_type": "markdown",
   "metadata": {},
   "source": [
    "## Getting set up\n",
    "\n",
    "1. **Open a new terminal window**\n",
    "\n",
    "2. **Install pixi**:\n",
    "   If you don't have `pixi` installed, you can follow the [pixi docs](https://pixi.sh/latest/advanced/installation/) to download and install it.\n",
    "  \n",
    "4. **Download the tutorial, unzip it, and navigate the `holoviz_tutorial` folder**: Download the tutorial ZIP archive from https://assets.holoviz.org/holoviz/tutorial/holoviz_tutorial.zip, unzip it and go to the `holoviz_tutorial` directory.\n",
    "\n",
    "    *Windows / Powershell*\n",
    "\n",
    "    ```powershell\n",
    "    Invoke-WebRequest -Uri \"https://assets.holoviz.org/holoviz/tutorial/holoviz_tutorial.zip\" -OutFile \"holoviz_tutorial.zip\"\n",
    "    Expand-Archive -Path \"holoviz_tutorial.zip\" -DestinationPath \"holoviz_tutorial\"\n",
    "    cd holoviz_tutorial\n",
    "    ```\n",
    "\n",
    "    *macOS and Linux*\n",
    "\n",
    "    ```bash\n",
    "    curl -o holoviz_tutorial.zip \"https://assets.holoviz.org/holoviz/tutorial/holoviz_tutorial.zip\"\n",
    "    unzip holoviz_tutorial.zip -d holoviz_tutorial\n",
    "    cd holoviz_tutorial\n",
    "    ```\n",
    "\n",
    "5. **Set up the tutorial environment and launch Jupyter**: Don't be alarmed when this command takes a little while, as it downloads a few datasets, downloads and installs the tutorial dependencies, and launches Jupyter.\n",
    "    ```bash\n",
    "    pixi run lab\n",
    "    ```\n",
    "    Note: If you prefer the original Jupyter notebook interface, replace \"lab\" with \"notebook\" .\n",
    "\n",
    "5. **Test HoloViz imports**:\n",
    "After launching Jupyter, navigate to this notebook (`tutorial/00_Setup.ipynb`) and run the following cell. This command is a quick check that your environment is set up correctly. You should see the HoloViews, Bokeh, and Matplotlib logos along with a success message.\n"
   ]
  },
  {
   "cell_type": "code",
   "execution_count": null,
   "metadata": {},
   "outputs": [],
   "source": [
    "import datashader, panel, hvplot, param, holoviews as hv  # noqa\n",
    "from package_checker import check_packages\n",
    "hv.extension('bokeh', 'matplotlib')\n",
    "\n",
    "packages = ['datashader', 'holoviews', 'panel', 'hvplot', 'param']\n",
    "check_packages(packages)"
   ]
  },
  {
   "cell_type": "markdown",
   "metadata": {},
   "source": [
    "7. **Check datasets**: Finally, run the following cell to make sure the dataset exists and is readable."
   ]
  },
  {
   "cell_type": "code",
   "execution_count": null,
   "metadata": {},
   "outputs": [],
   "source": [
    "from data_checker import check_data\n",
    "\n",
    "data_path = 'data/earthquakes-projected.parq'\n",
    "check_data(data_path)"
   ]
  },
  {
   "cell_type": "markdown",
   "metadata": {},
   "source": [
    "If you don't see any error messages above, you should be good to go!  Now that you are set up, you can continue with the [rest of the tutorial sections](01_Overview.ipynb). "
   ]
  }
 ],
 "metadata": {
  "language_info": {
   "name": "python",
   "pygments_lexer": "ipython3"
  }
 },
 "nbformat": 4,
 "nbformat_minor": 4
}
